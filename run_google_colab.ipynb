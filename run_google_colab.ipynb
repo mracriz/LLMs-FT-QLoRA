{
  "nbformat": 4,
  "nbformat_minor": 0,
  "metadata": {
    "colab": {
      "provenance": [],
      "gpuType": "A100",
      "machine_shape": "hm"
    },
    "kernelspec": {
      "name": "python3",
      "display_name": "Python 3"
    },
    "language_info": {
      "name": "python"
    },
    "accelerator": "GPU"
  },
  "cells": [
    {
      "cell_type": "code",
      "source": [
        "!rm -rf llms-ft-qlora"
      ],
      "metadata": {
        "id": "s4UOaQKTSPFW"
      },
      "execution_count": 5,
      "outputs": []
    },
    {
      "cell_type": "code",
      "execution_count": 6,
      "metadata": {
        "colab": {
          "base_uri": "https://localhost:8080/"
        },
        "id": "3dC1wWy111CO",
        "outputId": "687030de-bab3-46f8-9910-8cbec7c9524f"
      },
      "outputs": [
        {
          "output_type": "stream",
          "name": "stdout",
          "text": [
            "Cloning into 'llms-ft-qlora'...\n",
            "remote: Enumerating objects: 121, done.\u001b[K\n",
            "remote: Counting objects: 100% (121/121), done.\u001b[K\n",
            "remote: Compressing objects: 100% (48/48), done.\u001b[K\n",
            "remote: Total 121 (delta 66), reused 119 (delta 64), pack-reused 0 (from 0)\u001b[K\n",
            "Receiving objects: 100% (121/121), 30.78 KiB | 4.40 MiB/s, done.\n",
            "Resolving deltas: 100% (66/66), done.\n",
            "/content/llms-ft-qlora/llms-ft-qlora\n"
          ]
        }
      ],
      "source": [
        "!git clone https://github.com/mracriz/llms-ft-qlora.git\n",
        "%cd llms-ft-qlora\n",
        "!pip install -q -r requirements.txt"
      ]
    },
    {
      "cell_type": "markdown",
      "source": [
        "Antes de rodar essa célula, é **necessário adicionar spider_data.zip** na pasta do repositório (llms-ft-qlora)"
      ],
      "metadata": {
        "id": "4pwO86Q8l1cO"
      }
    },
    {
      "cell_type": "code",
      "source": [
        "!python3 main.py"
      ],
      "metadata": {
        "id": "UbS2ZqnqjrCh"
      },
      "execution_count": null,
      "outputs": []
    }
  ]
}